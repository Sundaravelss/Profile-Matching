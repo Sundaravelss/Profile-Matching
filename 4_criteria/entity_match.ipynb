{
 "cells": [
  {
   "cell_type": "code",
   "execution_count": 2,
   "metadata": {},
   "outputs": [],
   "source": [
    "Intros= ['Data Scientist at Kaisens Data',\n",
    "  'Went to chemini',\n",
    "  'Studied at Université Paris-Sud (Université Paris-Saclay)',\n",
    "  \"Studied at École nationale supérieure d'informatique\",\n",
    "  'Went to lycée mixte sidi aiche',\n",
    "  'Lives in Villeneuve-Saint-Georges',\n",
    "  'From Chemini']"
   ]
  },
  {
   "cell_type": "code",
   "execution_count": 3,
   "metadata": {},
   "outputs": [
    {
     "name": "stdout",
     "output_type": "stream",
     "text": [
      "2020-11-23 10:56:49,838 https://nlp.informatik.hu-berlin.de/resources/models/ner/en-ner-conll03-v0.4.pt not found in cache, downloading to /tmp/tmpvu1tou7d\n"
     ]
    },
    {
     "name": "stderr",
     "output_type": "stream",
     "text": [
      "100%|██████████| 432197603/432197603 [01:26<00:00, 4984468.32B/s]"
     ]
    },
    {
     "name": "stdout",
     "output_type": "stream",
     "text": [
      "2020-11-23 10:58:16,674 copying /tmp/tmpvu1tou7d to cache at /home/vagrant/.flair/models/en-ner-conll03-v0.4.pt\n"
     ]
    },
    {
     "name": "stderr",
     "output_type": "stream",
     "text": [
      "\n"
     ]
    },
    {
     "name": "stdout",
     "output_type": "stream",
     "text": [
      "2020-11-23 10:58:17,609 removing temp file /tmp/tmpvu1tou7d\n",
      "2020-11-23 10:58:17,654 loading file /home/vagrant/.flair/models/en-ner-conll03-v0.4.pt\n",
      "Sentence: \"Data Scientist at Kaisens Data\"   [− Tokens: 5  − Token-Labels: \"Data Scientist at Kaisens <B-ORG> Data <E-ORG>\"]\n",
      "The following NER tags are found:\n",
      "Span [4,5]: \"Kaisens Data\"   [− Labels: ORG (0.6623)]\n",
      "2020-11-23 10:58:19,516 loading file /home/vagrant/.flair/models/en-ner-conll03-v0.4.pt\n",
      "Sentence: \"Went to chemini\"   [− Tokens: 3]\n",
      "The following NER tags are found:\n",
      "2020-11-23 10:58:21,595 loading file /home/vagrant/.flair/models/en-ner-conll03-v0.4.pt\n",
      "Sentence: \"Studied at Université Paris-Sud ( Université Paris-Saclay )\"   [− Tokens: 8  − Token-Labels: \"Studied at Université <B-LOC> Paris-Sud <E-LOC> ( Université <B-ORG> Paris-Saclay <E-ORG> )\"]\n",
      "The following NER tags are found:\n",
      "Span [3,4]: \"Université Paris-Sud\"   [− Labels: LOC (0.4669)]\n",
      "Span [6,7]: \"Université Paris-Saclay\"   [− Labels: ORG (0.8245)]\n",
      "2020-11-23 10:58:23,567 loading file /home/vagrant/.flair/models/en-ner-conll03-v0.4.pt\n",
      "Sentence: \"Studied at École nationale supérieure d'informatique\"   [− Tokens: 6  − Token-Labels: \"Studied at École <S-LOC> nationale supérieure d'informatique\"]\n",
      "The following NER tags are found:\n",
      "Span [3]: \"École\"   [− Labels: LOC (0.8865)]\n",
      "2020-11-23 10:58:25,372 loading file /home/vagrant/.flair/models/en-ner-conll03-v0.4.pt\n",
      "Sentence: \"Went to lycée mixte sidi aiche\"   [− Tokens: 6]\n",
      "The following NER tags are found:\n",
      "2020-11-23 10:58:27,074 loading file /home/vagrant/.flair/models/en-ner-conll03-v0.4.pt\n",
      "Sentence: \"Lives in Villeneuve-Saint-Georges\"   [− Tokens: 3  − Token-Labels: \"Lives in Villeneuve-Saint-Georges <S-LOC>\"]\n",
      "The following NER tags are found:\n",
      "Span [3]: \"Villeneuve-Saint-Georges\"   [− Labels: LOC (0.9996)]\n",
      "2020-11-23 10:58:28,909 loading file /home/vagrant/.flair/models/en-ner-conll03-v0.4.pt\n",
      "Sentence: \"From Chemini\"   [− Tokens: 2  − Token-Labels: \"From Chemini <S-LOC>\"]\n",
      "The following NER tags are found:\n",
      "Span [2]: \"Chemini\"   [− Labels: LOC (0.7723)]\n"
     ]
    }
   ],
   "source": [
    "from flair.data import Sentence\n",
    "from flair.models import SequenceTagger\n",
    "\n",
    "for Intro in Intros:\n",
    "    \n",
    "    sentence = Sentence(Intro)\n",
    "\n",
    "    # loading the NER tagger\n",
    "    tagger = SequenceTagger.load('ner')\n",
    "\n",
    "    # run NER over sentence\n",
    "    tagger.predict(sentence)\n",
    "\n",
    "    print(sentence)\n",
    "    print('The following NER tags are found:')\n",
    "\n",
    "    # iterate over entities and print\n",
    "    for entity in sentence.get_spans('ner'):\n",
    "        print(entity)"
   ]
  },
  {
   "cell_type": "code",
   "execution_count": null,
   "metadata": {},
   "outputs": [],
   "source": []
  }
 ],
 "metadata": {
  "kernelspec": {
   "display_name": "Python 3",
   "language": "python",
   "name": "python3"
  },
  "language_info": {
   "codemirror_mode": {
    "name": "ipython",
    "version": 3
   },
   "file_extension": ".py",
   "mimetype": "text/x-python",
   "name": "python",
   "nbconvert_exporter": "python",
   "pygments_lexer": "ipython3",
   "version": "3.6.9"
  }
 },
 "nbformat": 4,
 "nbformat_minor": 2
}
